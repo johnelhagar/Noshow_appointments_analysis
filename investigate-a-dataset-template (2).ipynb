{
 "cells": [
  {
   "cell_type": "markdown",
   "metadata": {},
   "source": [
    "# Project: Investigate no show bookings in Brazil and understanding what metrics could possibly influence patient no show!)\n",
    "\n",
    "## Table of Contents\n",
    "<ul>\n",
    "<li><a href=\"#intro\">Introduction</a></li>\n",
    "<li><a href=\"#wrangling\">Data Wrangling</a></li>\n",
    "<li><a href=\"#eda\">Exploratory Data Analysis</a></li>\n",
    "<li><a href=\"#conclusions\">Conclusions</a></li>\n",
    "</ul>"
   ]
  },
  {
   "cell_type": "markdown",
   "metadata": {},
   "source": [
    "<a id='intro'></a>\n",
    "## Introduction\n",
    "\n",
    "In this report, we will be exploring the data collected from around 100,000 medical appointments in Brazil with the aim of identifying the key causes for patients to not show up to their appointments. We will be investigating the effects of the following 5 variables on the patients tendency to not show to their appointments: Age, Time difference between scheduled day and appointment day, Gender, SMS reminder and patients enrolment in Brasilian welfare programs."
   ]
  },
  {
   "cell_type": "code",
   "execution_count": 657,
   "metadata": {},
   "outputs": [],
   "source": [
    "import pandas as pd\n",
    "import numpy as np\n",
    "import seaborn as sns\n",
    "import matplotlib.pyplot as plt\n",
    "\n",
    "%matplotlib inline"
   ]
  },
  {
   "cell_type": "markdown",
   "metadata": {},
   "source": [
    "<a id='wrangling'></a>\n",
    "## Data Wrangling\n",
    "\n",
    "Using pandas library, we will be investigating the data set for null values, duplicated rows and any invalid dates (for example: if appointment date is before scheduled day\n",
    "\n",
    "### General Properties"
   ]
  },
  {
   "cell_type": "code",
   "execution_count": 658,
   "metadata": {},
   "outputs": [
    {
     "data": {
      "text/html": [
       "<div>\n",
       "<style scoped>\n",
       "    .dataframe tbody tr th:only-of-type {\n",
       "        vertical-align: middle;\n",
       "    }\n",
       "\n",
       "    .dataframe tbody tr th {\n",
       "        vertical-align: top;\n",
       "    }\n",
       "\n",
       "    .dataframe thead th {\n",
       "        text-align: right;\n",
       "    }\n",
       "</style>\n",
       "<table border=\"1\" class=\"dataframe\">\n",
       "  <thead>\n",
       "    <tr style=\"text-align: right;\">\n",
       "      <th></th>\n",
       "      <th>PatientId</th>\n",
       "      <th>AppointmentID</th>\n",
       "      <th>Age</th>\n",
       "      <th>Scholarship</th>\n",
       "      <th>Hipertension</th>\n",
       "      <th>Diabetes</th>\n",
       "      <th>Alcoholism</th>\n",
       "      <th>Handcap</th>\n",
       "      <th>SMS_received</th>\n",
       "    </tr>\n",
       "  </thead>\n",
       "  <tbody>\n",
       "    <tr>\n",
       "      <th>count</th>\n",
       "      <td>1.105270e+05</td>\n",
       "      <td>1.105270e+05</td>\n",
       "      <td>110527.000000</td>\n",
       "      <td>110527.000000</td>\n",
       "      <td>110527.000000</td>\n",
       "      <td>110527.000000</td>\n",
       "      <td>110527.000000</td>\n",
       "      <td>110527.000000</td>\n",
       "      <td>110527.000000</td>\n",
       "    </tr>\n",
       "    <tr>\n",
       "      <th>mean</th>\n",
       "      <td>1.474963e+14</td>\n",
       "      <td>5.675305e+06</td>\n",
       "      <td>37.088874</td>\n",
       "      <td>0.098266</td>\n",
       "      <td>0.197246</td>\n",
       "      <td>0.071865</td>\n",
       "      <td>0.030400</td>\n",
       "      <td>0.022248</td>\n",
       "      <td>0.321026</td>\n",
       "    </tr>\n",
       "    <tr>\n",
       "      <th>std</th>\n",
       "      <td>2.560949e+14</td>\n",
       "      <td>7.129575e+04</td>\n",
       "      <td>23.110205</td>\n",
       "      <td>0.297675</td>\n",
       "      <td>0.397921</td>\n",
       "      <td>0.258265</td>\n",
       "      <td>0.171686</td>\n",
       "      <td>0.161543</td>\n",
       "      <td>0.466873</td>\n",
       "    </tr>\n",
       "    <tr>\n",
       "      <th>min</th>\n",
       "      <td>3.921784e+04</td>\n",
       "      <td>5.030230e+06</td>\n",
       "      <td>-1.000000</td>\n",
       "      <td>0.000000</td>\n",
       "      <td>0.000000</td>\n",
       "      <td>0.000000</td>\n",
       "      <td>0.000000</td>\n",
       "      <td>0.000000</td>\n",
       "      <td>0.000000</td>\n",
       "    </tr>\n",
       "    <tr>\n",
       "      <th>25%</th>\n",
       "      <td>4.172614e+12</td>\n",
       "      <td>5.640286e+06</td>\n",
       "      <td>18.000000</td>\n",
       "      <td>0.000000</td>\n",
       "      <td>0.000000</td>\n",
       "      <td>0.000000</td>\n",
       "      <td>0.000000</td>\n",
       "      <td>0.000000</td>\n",
       "      <td>0.000000</td>\n",
       "    </tr>\n",
       "    <tr>\n",
       "      <th>50%</th>\n",
       "      <td>3.173184e+13</td>\n",
       "      <td>5.680573e+06</td>\n",
       "      <td>37.000000</td>\n",
       "      <td>0.000000</td>\n",
       "      <td>0.000000</td>\n",
       "      <td>0.000000</td>\n",
       "      <td>0.000000</td>\n",
       "      <td>0.000000</td>\n",
       "      <td>0.000000</td>\n",
       "    </tr>\n",
       "    <tr>\n",
       "      <th>75%</th>\n",
       "      <td>9.439172e+13</td>\n",
       "      <td>5.725524e+06</td>\n",
       "      <td>55.000000</td>\n",
       "      <td>0.000000</td>\n",
       "      <td>0.000000</td>\n",
       "      <td>0.000000</td>\n",
       "      <td>0.000000</td>\n",
       "      <td>0.000000</td>\n",
       "      <td>1.000000</td>\n",
       "    </tr>\n",
       "    <tr>\n",
       "      <th>max</th>\n",
       "      <td>9.999816e+14</td>\n",
       "      <td>5.790484e+06</td>\n",
       "      <td>115.000000</td>\n",
       "      <td>1.000000</td>\n",
       "      <td>1.000000</td>\n",
       "      <td>1.000000</td>\n",
       "      <td>1.000000</td>\n",
       "      <td>4.000000</td>\n",
       "      <td>1.000000</td>\n",
       "    </tr>\n",
       "  </tbody>\n",
       "</table>\n",
       "</div>"
      ],
      "text/plain": [
       "          PatientId  AppointmentID            Age    Scholarship  \\\n",
       "count  1.105270e+05   1.105270e+05  110527.000000  110527.000000   \n",
       "mean   1.474963e+14   5.675305e+06      37.088874       0.098266   \n",
       "std    2.560949e+14   7.129575e+04      23.110205       0.297675   \n",
       "min    3.921784e+04   5.030230e+06      -1.000000       0.000000   \n",
       "25%    4.172614e+12   5.640286e+06      18.000000       0.000000   \n",
       "50%    3.173184e+13   5.680573e+06      37.000000       0.000000   \n",
       "75%    9.439172e+13   5.725524e+06      55.000000       0.000000   \n",
       "max    9.999816e+14   5.790484e+06     115.000000       1.000000   \n",
       "\n",
       "        Hipertension       Diabetes     Alcoholism        Handcap  \\\n",
       "count  110527.000000  110527.000000  110527.000000  110527.000000   \n",
       "mean        0.197246       0.071865       0.030400       0.022248   \n",
       "std         0.397921       0.258265       0.171686       0.161543   \n",
       "min         0.000000       0.000000       0.000000       0.000000   \n",
       "25%         0.000000       0.000000       0.000000       0.000000   \n",
       "50%         0.000000       0.000000       0.000000       0.000000   \n",
       "75%         0.000000       0.000000       0.000000       0.000000   \n",
       "max         1.000000       1.000000       1.000000       4.000000   \n",
       "\n",
       "        SMS_received  \n",
       "count  110527.000000  \n",
       "mean        0.321026  \n",
       "std         0.466873  \n",
       "min         0.000000  \n",
       "25%         0.000000  \n",
       "50%         0.000000  \n",
       "75%         1.000000  \n",
       "max         1.000000  "
      ]
     },
     "execution_count": 658,
     "metadata": {},
     "output_type": "execute_result"
    }
   ],
   "source": [
    "# Loading data from csv files and investigating the properties of different columns\n",
    "df=pd.read_csv(\"noshowappointments-kagglev2-may-2016.csv\")\n",
    "df.describe()"
   ]
  },
  {
   "cell_type": "code",
   "execution_count": 659,
   "metadata": {},
   "outputs": [
    {
     "data": {
      "text/plain": [
       "PatientId         0\n",
       "AppointmentID     0\n",
       "Gender            0\n",
       "ScheduledDay      0\n",
       "AppointmentDay    0\n",
       "Age               0\n",
       "Neighbourhood     0\n",
       "Scholarship       0\n",
       "Hipertension      0\n",
       "Diabetes          0\n",
       "Alcoholism        0\n",
       "Handcap           0\n",
       "SMS_received      0\n",
       "No-show           0\n",
       "dtype: int64"
      ]
     },
     "execution_count": 659,
     "metadata": {},
     "output_type": "execute_result"
    }
   ],
   "source": [
    "# Check for nan values\n",
    "df.isna().sum()"
   ]
  },
  {
   "cell_type": "code",
   "execution_count": 660,
   "metadata": {},
   "outputs": [
    {
     "data": {
      "text/plain": [
       "0"
      ]
     },
     "execution_count": 660,
     "metadata": {},
     "output_type": "execute_result"
    }
   ],
   "source": [
    "# Check if there are any duplicates\n",
    "df.duplicated().sum()"
   ]
  },
  {
   "cell_type": "code",
   "execution_count": 661,
   "metadata": {},
   "outputs": [
    {
     "name": "stdout",
     "output_type": "stream",
     "text": [
      "<class 'pandas.core.frame.DataFrame'>\n",
      "RangeIndex: 110527 entries, 0 to 110526\n",
      "Data columns (total 14 columns):\n",
      " #   Column          Non-Null Count   Dtype  \n",
      "---  ------          --------------   -----  \n",
      " 0   PatientId       110527 non-null  float64\n",
      " 1   AppointmentID   110527 non-null  int64  \n",
      " 2   Gender          110527 non-null  object \n",
      " 3   ScheduledDay    110527 non-null  object \n",
      " 4   AppointmentDay  110527 non-null  object \n",
      " 5   Age             110527 non-null  int64  \n",
      " 6   Neighbourhood   110527 non-null  object \n",
      " 7   Scholarship     110527 non-null  int64  \n",
      " 8   Hipertension    110527 non-null  int64  \n",
      " 9   Diabetes        110527 non-null  int64  \n",
      " 10  Alcoholism      110527 non-null  int64  \n",
      " 11  Handcap         110527 non-null  int64  \n",
      " 12  SMS_received    110527 non-null  int64  \n",
      " 13  No-show         110527 non-null  object \n",
      "dtypes: float64(1), int64(8), object(5)\n",
      "memory usage: 11.8+ MB\n"
     ]
    }
   ],
   "source": [
    "df.info()"
   ]
  },
  {
   "cell_type": "markdown",
   "metadata": {},
   "source": [
    "There are no null values or duplicated rows in this data, however the dates are formated as strings and therefore we need to extract the ScheduledDay and AppointmentDay as datetime data type.\n",
    "\n",
    "### Data Cleaning:\n",
    "\n",
    "First we will have a look at the format of the 2 columns to start extracting the date."
   ]
  },
  {
   "cell_type": "code",
   "execution_count": 662,
   "metadata": {},
   "outputs": [
    {
     "name": "stdout",
     "output_type": "stream",
     "text": [
      "0    2016-04-29T18:38:08Z\n",
      "1    2016-04-29T16:08:27Z\n",
      "2    2016-04-29T16:19:04Z\n",
      "3    2016-04-29T17:29:31Z\n",
      "4    2016-04-29T16:07:23Z\n",
      "Name: ScheduledDay, dtype: object\n",
      "0    2016-04-29T00:00:00Z\n",
      "1    2016-04-29T00:00:00Z\n",
      "2    2016-04-29T00:00:00Z\n",
      "3    2016-04-29T00:00:00Z\n",
      "4    2016-04-29T00:00:00Z\n",
      "Name: AppointmentDay, dtype: object\n"
     ]
    }
   ],
   "source": [
    "# Slice Dates and times from ScheduledDay and AppointmentDay Columns\n",
    "print(df[\"ScheduledDay\"].head())\n",
    "df[\"ScheduledDay\"]=df.loc[:][\"ScheduledDay\"].str[:-10]\n",
    "print(df[\"AppointmentDay\"].head())\n",
    "df[\"AppointmentDay\"]=df.loc[:][\"AppointmentDay\"].str[:-10]"
   ]
  },
  {
   "cell_type": "markdown",
   "metadata": {},
   "source": [
    "After extracting the date from the string, we will now convert it to date time data type and then calculate the time difference between booking date and appointment date."
   ]
  },
  {
   "cell_type": "code",
   "execution_count": 663,
   "metadata": {},
   "outputs": [],
   "source": [
    "# Converting ScheduledDay and AppointmentDay columns to date time format\n",
    "df[\"ScheduledDay\"]=pd.to_datetime(df[\"ScheduledDay\"])\n",
    "df[\"AppointmentDay\"]=pd.to_datetime(df[\"AppointmentDay\"])"
   ]
  },
  {
   "cell_type": "code",
   "execution_count": 680,
   "metadata": {},
   "outputs": [],
   "source": [
    "# Calculate difference between AppointmentDay and ScheduledDay\n",
    "df[\"time_difference\"]=df.loc[:][\"AppointmentDay\"]-df.loc[:][\"ScheduledDay\"]\n",
    "# Convert time_differnce column to int\n",
    "df[\"time_difference\"]=df[\"time_difference\"].dt.days\n",
    "# Eliminate any invalid time difference and age with negative values\n",
    "df=df[df[\"time_difference\"]>=0]\n",
    "df=df[df[\"Age\"]>=0]"
   ]
  },
  {
   "cell_type": "markdown",
   "metadata": {},
   "source": [
    "<a id='eda'></a>\n",
    "## Exploratory Data Analysis\n",
    "\n",
    "First of All we will be exploring the percentage show vs no show in the sample data.\n"
   ]
  },
  {
   "cell_type": "code",
   "execution_count": 665,
   "metadata": {},
   "outputs": [],
   "source": [
    "# Change no-show status to 0 or 1 for easier filtering\n",
    "df[\"No-show\"]=df[\"No-show\"].map(dict(Yes=1,No=0))"
   ]
  },
  {
   "cell_type": "code",
   "execution_count": 666,
   "metadata": {},
   "outputs": [
    {
     "name": "stdout",
     "output_type": "stream",
     "text": [
      "Percentage of no-show is equivalent to 20.0% of the total sample\n"
     ]
    },
    {
     "data": {
      "image/png": "[encoded data removed]",
      "text/plain": [
       "<Figure size 432x432 with 1 Axes>"
      ]
     },
     "metadata": {},
     "output_type": "display_data"
    }
   ],
   "source": [
    "# % no-show\n",
    "percentage_noshow=df[\"No-show\"].sum()/df[\"No-show\"].count()*100\n",
    "percentage_show=100-percentage_noshow\n",
    "df_noshowpercent=pd.DataFrame({\"Percentage of Total Sample\":[percentage_noshow,percentage_show]},index=[\"Yes\",\"No\"])\n",
    "df_noshowpercent.plot.pie(y=\"Percentage of Total Sample\",figsize=(6,6), autopct='%.2f%%');\n",
    "print(\"Percentage of no-show is equivalent to {}% of the total sample\".format(percentage_noshow.round(0)))"
   ]
  },
  {
   "cell_type": "markdown",
   "metadata": {},
   "source": [
    "### Research Question 1: Effect of Health Status on Patient No Show\n",
    "\n",
    "To investigate this question, we will create 2 data frames one for patients who showed up to their appointments and one for those who didn't show up. We will then investigate the health status distribution for both of these classes. There are four health statuses in this data: Hipertensioin, Diabetes, Alcoholism and Handicap."
   ]
  },
  {
   "cell_type": "code",
   "execution_count": 667,
   "metadata": {},
   "outputs": [
    {
     "data": {
      "text/html": [
       "<div>\n",
       "<style scoped>\n",
       "    .dataframe tbody tr th:only-of-type {\n",
       "        vertical-align: middle;\n",
       "    }\n",
       "\n",
       "    .dataframe tbody tr th {\n",
       "        vertical-align: top;\n",
       "    }\n",
       "\n",
       "    .dataframe thead th {\n",
       "        text-align: right;\n",
       "    }\n",
       "</style>\n",
       "<table border=\"1\" class=\"dataframe\">\n",
       "  <thead>\n",
       "    <tr style=\"text-align: right;\">\n",
       "      <th></th>\n",
       "      <th>no_show_percentage</th>\n",
       "    </tr>\n",
       "  </thead>\n",
       "  <tbody>\n",
       "    <tr>\n",
       "      <th>Hipertension</th>\n",
       "      <td>16.9042</td>\n",
       "    </tr>\n",
       "    <tr>\n",
       "      <th>Diabetes</th>\n",
       "      <td>6.40853</td>\n",
       "    </tr>\n",
       "    <tr>\n",
       "      <th>Alcoholism</th>\n",
       "      <td>3.03397</td>\n",
       "    </tr>\n",
       "    <tr>\n",
       "      <th>Handcap</th>\n",
       "      <td>2.02115</td>\n",
       "    </tr>\n",
       "  </tbody>\n",
       "</table>\n",
       "</div>"
      ],
      "text/plain": [
       "             no_show_percentage\n",
       "Hipertension            16.9042\n",
       "Diabetes                6.40853\n",
       "Alcoholism              3.03397\n",
       "Handcap                 2.02115"
      ]
     },
     "execution_count": 667,
     "metadata": {},
     "output_type": "execute_result"
    }
   ],
   "source": [
    "# Creating a data frame for no show patients with percentage of each health status of total\n",
    "total=df.query(\"`No-show`==1\").sum()\n",
    "count=df.query(\"`No-show`==1\").count()\n",
    "total.drop([\"PatientId\",\"AppointmentID\",\"Age\",\"Neighbourhood\",\"Gender\",\"time_difference\",\"No-show\",\"Scholarship\",\"SMS_received\"],inplace=True)\n",
    "count.drop([\"PatientId\",\"AppointmentID\",\"Age\",\"Neighbourhood\",\"Gender\",\"time_difference\",\"ScheduledDay\",\"AppointmentDay\",\"No-show\",\"Scholarship\",\"SMS_received\"],inplace=True)\n",
    "df_noshow=pd.DataFrame((total/count*100))\n",
    "df_noshow.rename(columns={0:\"no_show_percentage\",\"Unnamed: 0\":\"Variable\"},inplace=True)\n",
    "df_noshow.head()"
   ]
  },
  {
   "cell_type": "code",
   "execution_count": 668,
   "metadata": {},
   "outputs": [
    {
     "data": {
      "text/html": [
       "<div>\n",
       "<style scoped>\n",
       "    .dataframe tbody tr th:only-of-type {\n",
       "        vertical-align: middle;\n",
       "    }\n",
       "\n",
       "    .dataframe tbody tr th {\n",
       "        vertical-align: top;\n",
       "    }\n",
       "\n",
       "    .dataframe thead th {\n",
       "        text-align: right;\n",
       "    }\n",
       "</style>\n",
       "<table border=\"1\" class=\"dataframe\">\n",
       "  <thead>\n",
       "    <tr style=\"text-align: right;\">\n",
       "      <th></th>\n",
       "      <th>show_percentage</th>\n",
       "    </tr>\n",
       "  </thead>\n",
       "  <tbody>\n",
       "    <tr>\n",
       "      <th>Hipertension</th>\n",
       "      <td>20.4394</td>\n",
       "    </tr>\n",
       "    <tr>\n",
       "      <th>Diabetes</th>\n",
       "      <td>7.38377</td>\n",
       "    </tr>\n",
       "    <tr>\n",
       "      <th>Alcoholism</th>\n",
       "      <td>3.04171</td>\n",
       "    </tr>\n",
       "    <tr>\n",
       "      <th>Handcap</th>\n",
       "      <td>2.2742</td>\n",
       "    </tr>\n",
       "  </tbody>\n",
       "</table>\n",
       "</div>"
      ],
      "text/plain": [
       "             show_percentage\n",
       "Hipertension         20.4394\n",
       "Diabetes             7.38377\n",
       "Alcoholism           3.04171\n",
       "Handcap               2.2742"
      ]
     },
     "execution_count": 668,
     "metadata": {},
     "output_type": "execute_result"
    }
   ],
   "source": [
    "# Creating a data frame for show patients with percentage of each health status of total\n",
    "total_show=df.query(\"`No-show`==0\").sum()\n",
    "count_show=df.query(\"`No-show`==0\").count()\n",
    "total_show.drop([\"PatientId\",\"AppointmentID\",\"Age\",\"Neighbourhood\",\"Gender\",\"time_difference\",\"No-show\",\"Scholarship\",\"SMS_received\"],inplace=True)\n",
    "count_show.drop([\"PatientId\",\"AppointmentID\",\"Age\",\"Neighbourhood\",\"Gender\",\"time_difference\",\"ScheduledDay\",\"AppointmentDay\",\"No-show\",\"Scholarship\",\"SMS_received\"],inplace=True)\n",
    "df_show=pd.DataFrame((total_show/count_show*100))\n",
    "df_show.rename(columns={0:\"show_percentage\",\"Unnamed: 0\":\"Variable\"},inplace=True)\n",
    "df_show.head()"
   ]
  },
  {
   "cell_type": "code",
   "execution_count": 669,
   "metadata": {},
   "outputs": [
    {
     "data": {
      "image/png": "[encoded data removed]",
      "text/plain": [
       "<Figure size 504x504 with 1 Axes>"
      ]
     },
     "metadata": {
      "needs_background": "light"
     },
     "output_type": "display_data"
    }
   ],
   "source": [
    "# Plotting each health status percentage for show vs no-show patients\n",
    "plt.subplots(figsize=(7,7))\n",
    "plt.bar(df_show.index,df_show[\"show_percentage\"],alpha=0.7,color=\"red\")\n",
    "plt.bar(df_noshow.index,df_noshow[\"no_show_percentage\"],alpha=0.9)\n",
    "plt.legend([\"Show\",\"No show\"])\n",
    "plt.ylabel(\"% Contribution to Show & No-show\")\n",
    "plt.xlabel(\"Health Status\")\n",
    "plt.title(\"Percentage contribution of each health status to show and no show\");"
   ]
  },
  {
   "cell_type": "markdown",
   "metadata": {},
   "source": [
    "From the above plot we can deduce that Hypertension and Diabetic patients are more represented in the Show patients data, whereas the Alcoholism and Handicap are almost the same for show and No show patients. This indicates that diabetic and Hypertensive patients are more likely to show up to their appointments."
   ]
  },
  {
   "cell_type": "markdown",
   "metadata": {},
   "source": [
    "### Research Question 2: Effect of Age on Patient No Show\n",
    "\n",
    "To investigate this question, we will be plotting the age distribution for no show vs show patients, in addition to calculating the mean for each class."
   ]
  },
  {
   "cell_type": "code",
   "execution_count": 670,
   "metadata": {},
   "outputs": [
    {
     "name": "stdout",
     "output_type": "stream",
     "text": [
      "Average show age is 38, while Average no show age is 34\n"
     ]
    },
    {
     "data": {
      "image/png": "[encoded data removed]",
      "text/plain": [
       "<Figure size 432x288 with 1 Axes>"
      ]
     },
     "metadata": {
      "needs_background": "light"
     },
     "output_type": "display_data"
    }
   ],
   "source": [
    "# Plotting Age distribution for show and no-show patients\n",
    "df.groupby(df[\"No-show\"]).Age.plot.hist();\n",
    "plt.legend([\"Show\",\"No-show\"]);\n",
    "plt.xlabel(\"Age\")\n",
    "plt.title(\"Age Frequency distribution for Show & No show statuses\")\n",
    "# Calculating average Age for show and no-show patients\n",
    "average_noshow_age=(df.query(\"`No-show`==1\").Age.mean())\n",
    "average_show_age=df.query(\"`No-show`==0\").Age.mean()\n",
    "print(\"Average show age is {:.0f}, while Average no show age is {:.0f}\".format(average_show_age,average_noshow_age))"
   ]
  },
  {
   "cell_type": "markdown",
   "metadata": {},
   "source": [
    "The age distribution for No show patients is slightly skewed to the left compared to that of show patients, indicating that younger population are more likely to miss out on doctors appointments. This is also confirmed by the mean age for each class."
   ]
  },
  {
   "cell_type": "markdown",
   "metadata": {},
   "source": [
    "### Research Question 3: Effect of time difference between booking and appointment day on Patient No show:\n",
    "\n",
    "To investigate this we will be using histogram plots and mean comparisons of time difference data between no show and show patients."
   ]
  },
  {
   "cell_type": "code",
   "execution_count": 695,
   "metadata": {},
   "outputs": [
    {
     "name": "stdout",
     "output_type": "stream",
     "text": [
      "Average time difference between scheduled day and appointment day for show patients is 9 days, \n",
      "while Average time difference for no show patients is 16 days\n"
     ]
    },
    {
     "data": {
      "image/png": "[encoded data removed]",
      "text/plain": [
       "<Figure size 432x288 with 1 Axes>"
      ]
     },
     "metadata": {
      "needs_background": "light"
     },
     "output_type": "display_data"
    }
   ],
   "source": [
    "# Plotting time difference between scheduled day and appointment day for show and no-show patients\n",
    "df.groupby(df[\"No-show\"]).time_difference.plot.hist();\n",
    "plt.legend([\"Show\",\"No-show\"])\n",
    "plt.xlabel(\"Time Difference (Days)\")\n",
    "plt.title(\"Time difference between Scheduled Day & Apointment Day distribution for show & No show statuses\");\n",
    "# Calculating average time difference between scheduled day and appointment day for show and no-show patients\n",
    "average_noshow_time_difference=df.query(\"`No-show`==1\").time_difference.mean()\n",
    "average_show_time_difference=df.query(\"`No-show`==0\").time_difference.mean()\n",
    "print(\"Average time difference between scheduled day and appointment day for show patients is {:.0f} days, \\nwhile Average time difference for no show patients is {:.0f} days\".format(average_show_time_difference,average_noshow_time_difference))\n"
   ]
  },
  {
   "cell_type": "markdown",
   "metadata": {},
   "source": [
    "The histogram plots for show patients are skewed to the right and the mean time difference for no show patients is much higher than that of show patients. This indicates that the smaller the time difference between booking day and appointment day, the more likely it is that the patient would show up."
   ]
  },
  {
   "cell_type": "markdown",
   "metadata": {},
   "source": [
    "### Research Question 4: Effect of Gender on Patient No show:\n",
    "\n",
    "To investigate this we will be using bar plots comparison between male and female no show percentage"
   ]
  },
  {
   "cell_type": "code",
   "execution_count": 687,
   "metadata": {},
   "outputs": [],
   "source": [
    "# Define function to calculate percentage no show per variable\n",
    "def no_show_per_variable(x,y,z):\n",
    "    total_noshow_per_variable=df.groupby(df[x])[\"No-show\"].sum()\n",
    "    total_per_variable=df.groupby(df[x])[\"No-show\"].count()\n",
    "    percentage_per_variable=(total_noshow_per_variable/total_per_variable)*100\n",
    "    no_show_per_variable=percentage_per_variable.round(0)\n",
    "    no_show_per_variable.set_axis([y,z],inplace=True)\n",
    "    return no_show_per_variable\n",
    " \n",
    "    \n",
    "# Calculate percentage no show per gender    \n",
    "no_show_per_gender=no_show_per_variable(\"Gender\",\"Females\",\"Males\")"
   ]
  },
  {
   "cell_type": "code",
   "execution_count": 688,
   "metadata": {},
   "outputs": [
    {
     "data": {
      "image/png": "[encoded data removed]",
      "text/plain": [
       "<Figure size 504x504 with 1 Axes>"
      ]
     },
     "metadata": {
      "needs_background": "light"
     },
     "output_type": "display_data"
    }
   ],
   "source": [
    "# Plotting Gender distribution for no-show patients\n",
    "plt.subplots(figsize=(7,7))\n",
    "plt.bar(no_show_per_gender.index,no_show_per_gender);\n",
    "plt.ylabel(\"% No Show\")\n",
    "plt.xlabel(\"Gender\")\n",
    "plt.title(\"Percentage No-show among Females and Males\");"
   ]
  },
  {
   "cell_type": "markdown",
   "metadata": {},
   "source": [
    "Percentage of Males and Females who do not show up from the total Males and Females sample is almost equal at 20% indicating that gender is not a significant factor in determining patient's likeliness to show up to their appointments."
   ]
  },
  {
   "cell_type": "markdown",
   "metadata": {},
   "source": [
    "### Research Question 5: Effect of SMS Notifications on Patient No show:\n",
    "\n",
    "To investigate this we will be using bar plots comparison of no show percenage of patients who received SMS versus those who did not receive it."
   ]
  },
  {
   "cell_type": "code",
   "execution_count": 690,
   "metadata": {},
   "outputs": [],
   "source": [
    "# Calculating percentage of no-show for patients who received SMS versus those who did not receive it\n",
    "no_show_per_sms=no_show_per_variable(\"SMS_received\",\"No\",\"Yes\")"
   ]
  },
  {
   "cell_type": "code",
   "execution_count": 691,
   "metadata": {},
   "outputs": [
    {
     "data": {
      "image/png": "[encoded data removed]",
      "text/plain": [
       "<Figure size 504x504 with 1 Axes>"
      ]
     },
     "metadata": {
      "needs_background": "light"
     },
     "output_type": "display_data"
    }
   ],
   "source": [
    "# Plotting no show patients for those who received SMS vs those who did not\n",
    "plt.subplots(figsize=(7,7))\n",
    "plt.bar(no_show_per_sms.index,no_show_per_sms);\n",
    "plt.ylabel(\"% No Show\");\n",
    "plt.xlabel(\"SMS Received\");\n",
    "plt.title(\"Percentage No-show for patients who received SMS notifications vs those who did not\");"
   ]
  },
  {
   "cell_type": "markdown",
   "metadata": {},
   "source": [
    "On contrary to what is expected, the SMS notifications correlate with much higher no show percentage by around 10%."
   ]
  },
  {
   "cell_type": "markdown",
   "metadata": {},
   "source": [
    "### Research Question 6: Effect of enrollment in Brazilian Welfare Program on Patient No show:\n",
    "\n",
    "To investigate this we will be using bar plots comparison of no show percenage of patients who are enrolled in the welfare program versus those who are not."
   ]
  },
  {
   "cell_type": "code",
   "execution_count": 692,
   "metadata": {},
   "outputs": [],
   "source": [
    "# Calculating percentage of no-show for patients who are enrolled in the welfare program versus those who are not\n",
    "no_show_per_scholarship=no_show_per_variable(\"Scholarship\",\"No\",\"Yes\")"
   ]
  },
  {
   "cell_type": "code",
   "execution_count": 693,
   "metadata": {},
   "outputs": [
    {
     "data": {
      "image/png": "[encoded data removed]",
      "text/plain": [
       "<Figure size 504x504 with 1 Axes>"
      ]
     },
     "metadata": {
      "needs_background": "light"
     },
     "output_type": "display_data"
    }
   ],
   "source": [
    "# Plotting no show patients for those who are enrolled in the program versus those who are not\n",
    "plt.subplots(figsize=(7,7))\n",
    "plt.bar(no_show_per_scholarship.index,no_show_per_scholarship);\n",
    "plt.ylabel(\"% No Show\");\n",
    "plt.xlabel(\"Welfare Program\");\n",
    "plt.title(\"Percentage No-show for patients who enrolled in welfare program vs those who did not\");"
   ]
  },
  {
   "cell_type": "markdown",
   "metadata": {},
   "source": [
    "Enrolment in welfare program correlates with higher tendency for not showing to the appointments. As % no show of those enrolled in the scholarship program is higher by 4% compared to those who are not enrolled."
   ]
  },
  {
   "cell_type": "markdown",
   "metadata": {
    "collapsed": true
   },
   "source": [
    "<a id='conclusions'></a>\n",
    "## Conclusions\n",
    "\n",
    "In this report we have explored the correlation between no show and 6 variables: Health Status, Age, Time difference between booking and appointment day, Gender, SMS notifications and enrolment in Brazilian welfare program. In conclusion, lower no show percentages were shown in patients who are hypertensive or diabetic, while no significant differene was shown in alcoholism or handicaped patients. Moreover, no-show correlates with younger population and longer time difference between appointment day and booking day. In addition the Brazilian Welfare Program and the SMS notifications tend to correlate with higher no show percentage. Finally, Gender seemed as an insiginficant factor in determining patient's tendency for no show. The limitations of this study is the lack of information with regard to how this data was collected and on what basis was the sample chosen and if this sample is representative of the Brazilian population."
   ]
  }
 ],
 "metadata": {
  "kernelspec": {
   "display_name": "Python 3",
   "language": "python",
   "name": "python3"
  },
  "language_info": {
   "codemirror_mode": {
    "name": "ipython",
    "version": 3
   },
   "file_extension": ".py",
   "mimetype": "text/x-python",
   "name": "python",
   "nbconvert_exporter": "python",
   "pygments_lexer": "ipython3",
   "version": "3.8.3"
  }
 },
 "nbformat": 4,
 "nbformat_minor": 2
}
